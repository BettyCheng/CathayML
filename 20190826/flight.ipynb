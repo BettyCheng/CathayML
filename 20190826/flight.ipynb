{
 "cells": [
  {
   "cell_type": "code",
   "execution_count": 1,
   "metadata": {
    "collapsed": true
   },
   "outputs": [],
   "source": [
    "from graphframes import *"
   ]
  },
  {
   "cell_type": "code",
   "execution_count": 14,
   "metadata": {
    "collapsed": true
   },
   "outputs": [],
   "source": [
    "# Set File Paths\n",
    "tripdelaysFilePath = \"/Users/liouscott/Documents/scott/graph/departuredelays.csv\"\n",
    "airportsnaFilePath = \"/Users/liouscott/Documents/scott/graph/airport-codes-na.txt\""
   ]
  },
  {
   "cell_type": "code",
   "execution_count": 15,
   "metadata": {
    "collapsed": true
   },
   "outputs": [],
   "source": [
    "# Obtain airports dataset\n",
    "airportsna = spark.read.csv(airportsnaFilePath, header='true', inferSchema='true', sep='\\t')\n",
    "airportsna.createOrReplaceTempView(\"airports_na\")"
   ]
  },
  {
   "cell_type": "code",
   "execution_count": 16,
   "metadata": {},
   "outputs": [
    {
     "name": "stdout",
     "output_type": "stream",
     "text": [
      "+-----------+-----+-------+----+\n",
      "|       City|State|Country|IATA|\n",
      "+-----------+-----+-------+----+\n",
      "| Abbotsford|   BC| Canada| YXX|\n",
      "|   Aberdeen|   SD|    USA| ABR|\n",
      "|    Abilene|   TX|    USA| ABI|\n",
      "|      Akron|   OH|    USA| CAK|\n",
      "|    Alamosa|   CO|    USA| ALS|\n",
      "|     Albany|   GA|    USA| ABY|\n",
      "|     Albany|   NY|    USA| ALB|\n",
      "|Albuquerque|   NM|    USA| ABQ|\n",
      "| Alexandria|   LA|    USA| AEX|\n",
      "|  Allentown|   PA|    USA| ABE|\n",
      "|   Alliance|   NE|    USA| AIA|\n",
      "|     Alpena|   MI|    USA| APN|\n",
      "|    Altoona|   PA|    USA| AOO|\n",
      "|   Amarillo|   TX|    USA| AMA|\n",
      "|Anahim Lake|   BC| Canada| YAA|\n",
      "|  Anchorage|   AK|    USA| ANC|\n",
      "|   Appleton|   WI|    USA| ATW|\n",
      "|     Arviat|  NWT| Canada| YEK|\n",
      "|  Asheville|   NC|    USA| AVL|\n",
      "|      Aspen|   CO|    USA| ASE|\n",
      "+-----------+-----+-------+----+\n",
      "only showing top 20 rows\n",
      "\n"
     ]
    }
   ],
   "source": [
    "airportsna.show()"
   ]
  },
  {
   "cell_type": "code",
   "execution_count": 17,
   "metadata": {},
   "outputs": [
    {
     "data": {
      "text/plain": [
       "DataFrame[date: string, delay: string, distance: string, origin: string, destination: string]"
      ]
     },
     "execution_count": 17,
     "metadata": {},
     "output_type": "execute_result"
    }
   ],
   "source": [
    "# Obtain departure Delays data\n",
    "departureDelays = spark.read.csv(tripdelaysFilePath, header='true')\n",
    "departureDelays.createOrReplaceTempView(\"departureDelays\")\n",
    "departureDelays.cache()"
   ]
  },
  {
   "cell_type": "code",
   "execution_count": 18,
   "metadata": {},
   "outputs": [
    {
     "name": "stdout",
     "output_type": "stream",
     "text": [
      "+--------+-----+--------+------+-----------+\n",
      "|    date|delay|distance|origin|destination|\n",
      "+--------+-----+--------+------+-----------+\n",
      "|01011245|    6|     602|   ABE|        ATL|\n",
      "|01020600|   -8|     369|   ABE|        DTW|\n",
      "|01021245|   -2|     602|   ABE|        ATL|\n",
      "|01020605|   -4|     602|   ABE|        ATL|\n",
      "|01031245|   -4|     602|   ABE|        ATL|\n",
      "|01030605|    0|     602|   ABE|        ATL|\n",
      "|01041243|   10|     602|   ABE|        ATL|\n",
      "|01040605|   28|     602|   ABE|        ATL|\n",
      "|01051245|   88|     602|   ABE|        ATL|\n",
      "|01050605|    9|     602|   ABE|        ATL|\n",
      "|01061215|   -6|     602|   ABE|        ATL|\n",
      "|01061725|   69|     602|   ABE|        ATL|\n",
      "|01061230|    0|     369|   ABE|        DTW|\n",
      "|01060625|   -3|     602|   ABE|        ATL|\n",
      "|01070600|    0|     369|   ABE|        DTW|\n",
      "|01071725|    0|     602|   ABE|        ATL|\n",
      "|01071230|    0|     369|   ABE|        DTW|\n",
      "|01070625|    0|     602|   ABE|        ATL|\n",
      "|01071219|    0|     569|   ABE|        ORD|\n",
      "|01080600|    0|     369|   ABE|        DTW|\n",
      "+--------+-----+--------+------+-----------+\n",
      "only showing top 20 rows\n",
      "\n"
     ]
    }
   ],
   "source": [
    "departureDelays.show()"
   ]
  },
  {
   "cell_type": "code",
   "execution_count": 19,
   "metadata": {
    "collapsed": true
   },
   "outputs": [],
   "source": [
    "# Available IATA codes from the departuredelays sample dataset\n",
    "tripIATA = spark.sql(\"select distinct iata from (select distinct origin as iata from departureDelays union all select distinct destination as iata from departureDelays) a\")\n",
    "tripIATA.createOrReplaceTempView(\"tripIATA\")"
   ]
  },
  {
   "cell_type": "code",
   "execution_count": 20,
   "metadata": {},
   "outputs": [
    {
     "name": "stdout",
     "output_type": "stream",
     "text": [
      "+----+\n",
      "|iata|\n",
      "+----+\n",
      "| PSE|\n",
      "| INL|\n",
      "| MSY|\n",
      "| PPG|\n",
      "| GEG|\n",
      "| BUR|\n",
      "| SNA|\n",
      "| GRB|\n",
      "| GTF|\n",
      "| IDA|\n",
      "| GRR|\n",
      "| JLN|\n",
      "| EUG|\n",
      "| PSG|\n",
      "| GSO|\n",
      "| MYR|\n",
      "| PVD|\n",
      "| OAK|\n",
      "| BTM|\n",
      "| COD|\n",
      "+----+\n",
      "only showing top 20 rows\n",
      "\n"
     ]
    }
   ],
   "source": [
    "tripIATA.show()"
   ]
  },
  {
   "cell_type": "code",
   "execution_count": 21,
   "metadata": {},
   "outputs": [
    {
     "data": {
      "text/plain": [
       "DataFrame[IATA: string, City: string, State: string, Country: string]"
      ]
     },
     "execution_count": 21,
     "metadata": {},
     "output_type": "execute_result"
    }
   ],
   "source": [
    "# Only include airports with atleast one trip from the departureDelays dataset\n",
    "airports = spark.sql(\"select f.IATA, f.City, f.State, f.Country from airports_na f join tripIATA t on t.IATA = f.IATA\")\n",
    "airports.createOrReplaceTempView(\"airports\")\n",
    "airports.cache()"
   ]
  },
  {
   "cell_type": "code",
   "execution_count": 22,
   "metadata": {},
   "outputs": [
    {
     "name": "stdout",
     "output_type": "stream",
     "text": [
      "+----+-------------------+-----+-------+\n",
      "|IATA|               City|State|Country|\n",
      "+----+-------------------+-----+-------+\n",
      "| INL|International Falls|   MN|    USA|\n",
      "| MSY|        New Orleans|   LA|    USA|\n",
      "| GEG|            Spokane|   WA|    USA|\n",
      "| BUR|            Burbank|   CA|    USA|\n",
      "| SNA|      Orange County|   CA|    USA|\n",
      "| GRB|          Green Bay|   WI|    USA|\n",
      "| GTF|        Great Falls|   MT|    USA|\n",
      "| IDA|        Idaho Falls|   ID|    USA|\n",
      "| GRR|       Grand Rapids|   MI|    USA|\n",
      "| JLN|             Joplin|   MO|    USA|\n",
      "| EUG|             Eugene|   OR|    USA|\n",
      "| GSO|         Greensboro|   NC|    USA|\n",
      "| MYR|       Myrtle Beach|   SC|    USA|\n",
      "| PVD|         Providence|   RI|    USA|\n",
      "| OAK|            Oakland|   CA|    USA|\n",
      "| BTM|              Butte|   MT|    USA|\n",
      "| COD|               Cody|   WY|    USA|\n",
      "| FAR|              Fargo|   ND|    USA|\n",
      "| FSM|         Fort Smith|   AR|    USA|\n",
      "| MQT|          Marquette|   MI|    USA|\n",
      "+----+-------------------+-----+-------+\n",
      "only showing top 20 rows\n",
      "\n"
     ]
    }
   ],
   "source": [
    "airports.show()"
   ]
  },
  {
   "cell_type": "code",
   "execution_count": 23,
   "metadata": {},
   "outputs": [
    {
     "data": {
      "text/plain": [
       "1391578"
      ]
     },
     "execution_count": 23,
     "metadata": {},
     "output_type": "execute_result"
    }
   ],
   "source": [
    "departureDelays.count()"
   ]
  },
  {
   "cell_type": "code",
   "execution_count": 24,
   "metadata": {},
   "outputs": [
    {
     "data": {
      "text/plain": [
       "1361141"
      ]
     },
     "execution_count": 24,
     "metadata": {},
     "output_type": "execute_result"
    }
   ],
   "source": [
    "# Build `departureDelays_geo` DataFrame\n",
    "#  Obtain key attributes such as Date of flight, delays, distance, and airport information (Origin, Destination)  \n",
    "departureDelays_geo = spark.sql(\"select cast(f.date as int) as tripid, cast(concat(concat(concat(concat(concat(concat('2014-', concat(concat(substr(cast(f.date as string), 1, 2), '-')), substr(cast(f.date as string), 3, 2)), ' '), substr(cast(f.date as string), 5, 2)), ':'), substr(cast(f.date as string), 7, 2)), ':00') as timestamp) as `localdate`, cast(f.delay as int), cast(f.distance as int), f.origin as src, f.destination as dst, o.city as city_src, d.city as city_dst, o.state as state_src, d.state as state_dst from departuredelays f join airports o on o.iata = f.origin join airports d on d.iata = f.destination\") \n",
    "\n",
    "# Create Temporary View and cache\n",
    "departureDelays_geo.createOrReplaceTempView(\"departureDelays_geo\")\n",
    "departureDelays_geo.cache()\n",
    "\n",
    "# Count\n",
    "departureDelays_geo.count()"
   ]
  },
  {
   "cell_type": "code",
   "execution_count": 25,
   "metadata": {},
   "outputs": [
    {
     "name": "stdout",
     "output_type": "stream",
     "text": [
      "+-------+--------------------+-----+--------+---+---+---------+--------+---------+---------+\n",
      "| tripid|           localdate|delay|distance|src|dst| city_src|city_dst|state_src|state_dst|\n",
      "+-------+--------------------+-----+--------+---+---+---------+--------+---------+---------+\n",
      "|1011245|2014-01-01 12:45:...|    6|     602|ABE|ATL|Allentown| Atlanta|       PA|       GA|\n",
      "|1020600|2014-01-02 06:00:...|   -8|     369|ABE|DTW|Allentown| Detroit|       PA|       MI|\n",
      "|1021245|2014-01-02 12:45:...|   -2|     602|ABE|ATL|Allentown| Atlanta|       PA|       GA|\n",
      "|1020605|2014-01-02 06:05:...|   -4|     602|ABE|ATL|Allentown| Atlanta|       PA|       GA|\n",
      "|1031245|2014-01-03 12:45:...|   -4|     602|ABE|ATL|Allentown| Atlanta|       PA|       GA|\n",
      "|1030605|2014-01-03 06:05:...|    0|     602|ABE|ATL|Allentown| Atlanta|       PA|       GA|\n",
      "|1041243|2014-01-04 12:43:...|   10|     602|ABE|ATL|Allentown| Atlanta|       PA|       GA|\n",
      "|1040605|2014-01-04 06:05:...|   28|     602|ABE|ATL|Allentown| Atlanta|       PA|       GA|\n",
      "|1051245|2014-01-05 12:45:...|   88|     602|ABE|ATL|Allentown| Atlanta|       PA|       GA|\n",
      "|1050605|2014-01-05 06:05:...|    9|     602|ABE|ATL|Allentown| Atlanta|       PA|       GA|\n",
      "+-------+--------------------+-----+--------+---+---+---------+--------+---------+---------+\n",
      "only showing top 10 rows\n",
      "\n"
     ]
    }
   ],
   "source": [
    "# Review the top 10 rows of the `departureDelays_geo` DataFrame\n",
    "departureDelays_geo.show(10)"
   ]
  },
  {
   "cell_type": "code",
   "execution_count": 26,
   "metadata": {},
   "outputs": [
    {
     "data": {
      "text/plain": [
       "DataFrame[id: string, City: string, State: string, Country: string]"
      ]
     },
     "execution_count": 26,
     "metadata": {},
     "output_type": "execute_result"
    }
   ],
   "source": [
    "# Note, ensure you have already installed the GraphFrames spack-package\n",
    "from pyspark.sql.functions import *\n",
    "from graphframes import *\n",
    "\n",
    "# Create Vertices (airports) and Edges (flights)\n",
    "tripVertices = airports.withColumnRenamed(\"IATA\", \"id\").distinct()\n",
    "tripEdges = departureDelays_geo.select(\"tripid\", \"delay\", \"src\", \"dst\", \"city_dst\", \"state_dst\")\n",
    "\n",
    "# Cache Vertices and Edges\n",
    "tripEdges.cache()\n",
    "tripVertices.cache()"
   ]
  },
  {
   "cell_type": "code",
   "execution_count": 30,
   "metadata": {},
   "outputs": [
    {
     "name": "stdout",
     "output_type": "stream",
     "text": [
      "+-------+-----+---+---+--------+---------+\n",
      "| tripid|delay|src|dst|city_dst|state_dst|\n",
      "+-------+-----+---+---+--------+---------+\n",
      "|1011245|    6|ABE|ATL| Atlanta|       GA|\n",
      "|1020600|   -8|ABE|DTW| Detroit|       MI|\n",
      "|1021245|   -2|ABE|ATL| Atlanta|       GA|\n",
      "|1020605|   -4|ABE|ATL| Atlanta|       GA|\n",
      "|1031245|   -4|ABE|ATL| Atlanta|       GA|\n",
      "|1030605|    0|ABE|ATL| Atlanta|       GA|\n",
      "|1041243|   10|ABE|ATL| Atlanta|       GA|\n",
      "|1040605|   28|ABE|ATL| Atlanta|       GA|\n",
      "|1051245|   88|ABE|ATL| Atlanta|       GA|\n",
      "|1050605|    9|ABE|ATL| Atlanta|       GA|\n",
      "|1061215|   -6|ABE|ATL| Atlanta|       GA|\n",
      "|1061725|   69|ABE|ATL| Atlanta|       GA|\n",
      "|1061230|    0|ABE|DTW| Detroit|       MI|\n",
      "|1060625|   -3|ABE|ATL| Atlanta|       GA|\n",
      "|1070600|    0|ABE|DTW| Detroit|       MI|\n",
      "|1071725|    0|ABE|ATL| Atlanta|       GA|\n",
      "|1071230|    0|ABE|DTW| Detroit|       MI|\n",
      "|1070625|    0|ABE|ATL| Atlanta|       GA|\n",
      "|1071219|    0|ABE|ORD| Chicago|       IL|\n",
      "|1080600|    0|ABE|DTW| Detroit|       MI|\n",
      "+-------+-----+---+---+--------+---------+\n",
      "only showing top 20 rows\n",
      "\n"
     ]
    }
   ],
   "source": [
    "tripEdges.show()"
   ]
  },
  {
   "cell_type": "code",
   "execution_count": 31,
   "metadata": {},
   "outputs": [
    {
     "name": "stdout",
     "output_type": "stream",
     "text": [
      "+---+----------------+-----+-------+\n",
      "| id|            City|State|Country|\n",
      "+---+----------------+-----+-------+\n",
      "|FAT|          Fresno|   CA|    USA|\n",
      "|CMH|        Columbus|   OH|    USA|\n",
      "|PHX|         Phoenix|   AZ|    USA|\n",
      "|PAH|         Paducah|   KY|    USA|\n",
      "|COS|Colorado Springs|   CO|    USA|\n",
      "|MYR|    Myrtle Beach|   SC|    USA|\n",
      "|RNO|            Reno|   NV|    USA|\n",
      "|SRQ|        Sarasota|   FL|    USA|\n",
      "|VLD|        Valdosta|   GA|    USA|\n",
      "|PSC|           Pasco|   WA|    USA|\n",
      "|BPT|        Beaumont|   TX|    USA|\n",
      "|CAE|        Columbia|   SC|    USA|\n",
      "|LAX|     Los Angeles|   CA|    USA|\n",
      "|DAY|          Dayton|   OH|    USA|\n",
      "|AVP|    Wilkes-Barre|   PA|    USA|\n",
      "|MFR|         Medford|   OR|    USA|\n",
      "|JFK|        New York|   NY|    USA|\n",
      "|LAS|       Las Vegas|   NV|    USA|\n",
      "|BNA|       Nashville|   TN|    USA|\n",
      "|CLT|       Charlotte|   NC|    USA|\n",
      "+---+----------------+-----+-------+\n",
      "only showing top 20 rows\n",
      "\n"
     ]
    }
   ],
   "source": [
    "tripVertices.show()"
   ]
  },
  {
   "cell_type": "code",
   "execution_count": 32,
   "metadata": {},
   "outputs": [
    {
     "name": "stdout",
     "output_type": "stream",
     "text": [
      "GraphFrame(v:[id: string, City: string ... 2 more fields], e:[src: string, dst: string ... 4 more fields])\n"
     ]
    }
   ],
   "source": [
    "# Build `tripGraph` GraphFrame\n",
    "#  This GraphFrame builds up on the vertices and edges based on our trips (flights)\n",
    "tripGraph = GraphFrame(tripVertices, tripEdges)\n",
    "print (tripGraph)\n",
    "\n",
    "# Build `tripGraphPrime` GraphFrame\n",
    "#   This graphframe contains a smaller subset of data to make it easier to display motifs and subgraphs (below)\n",
    "tripEdgesPrime = departureDelays_geo.select(\"tripid\", \"delay\", \"src\", \"dst\")\n",
    "tripGraphPrime = GraphFrame(tripVertices, tripEdgesPrime)"
   ]
  },
  {
   "cell_type": "code",
   "execution_count": 33,
   "metadata": {},
   "outputs": [
    {
     "name": "stdout",
     "output_type": "stream",
     "text": [
      "Airports: 279\n",
      "Trips: 1361141\n"
     ]
    }
   ],
   "source": [
    "print (\"Airports: %d\" % tripGraph.vertices.count())\n",
    "print (\"Trips: %d\" % tripGraph.edges.count())"
   ]
  },
  {
   "cell_type": "code",
   "execution_count": 34,
   "metadata": {},
   "outputs": [
    {
     "name": "stdout",
     "output_type": "stream",
     "text": [
      "+----------+\n",
      "|max(delay)|\n",
      "+----------+\n",
      "|      1642|\n",
      "+----------+\n",
      "\n"
     ]
    }
   ],
   "source": [
    "tripGraph.edges.groupBy().max(\"delay\").show()"
   ]
  },
  {
   "cell_type": "code",
   "execution_count": 35,
   "metadata": {},
   "outputs": [
    {
     "name": "stdout",
     "output_type": "stream",
     "text": [
      "+----------+\n",
      "|max(delay)|\n",
      "+----------+\n",
      "|      1642|\n",
      "+----------+\n",
      "\n"
     ]
    }
   ],
   "source": [
    "longestDelay = tripGraph.edges.groupBy().max(\"delay\")\n",
    "longestDelay.show()"
   ]
  },
  {
   "cell_type": "code",
   "execution_count": 36,
   "metadata": {},
   "outputs": [
    {
     "name": "stdout",
     "output_type": "stream",
     "text": [
      "On-time / Early Flights: 780469\n",
      "Delayed Flights: 580672\n"
     ]
    }
   ],
   "source": [
    "# Determining number of on-time / early flights vs. delayed flights\n",
    "print (\"On-time / Early Flights: %d\" % tripGraph.edges.filter(\"delay <= 0\").count())\n",
    "print (\"Delayed Flights: %d\" % tripGraph.edges.filter(\"delay > 0\").count())"
   ]
  },
  {
   "cell_type": "code",
   "execution_count": 37,
   "metadata": {},
   "outputs": [
    {
     "name": "stdout",
     "output_type": "stream",
     "text": [
      "+---+---+------------------+\n",
      "|src|dst|        avg(delay)|\n",
      "+---+---+------------------+\n",
      "|SEA|PHL|55.666666666666664|\n",
      "|SEA|COS| 43.53846153846154|\n",
      "|SEA|FAT| 43.03846153846154|\n",
      "|SEA|LGB| 39.39705882352941|\n",
      "|SEA|IAD|37.733333333333334|\n",
      "+---+---+------------------+\n",
      "only showing top 5 rows\n",
      "\n"
     ]
    }
   ],
   "source": [
    "tripGraph.edges\\\n",
    "  .filter(\"src = 'SEA' and delay > 0\")\\\n",
    "  .groupBy(\"src\", \"dst\")\\\n",
    "  .avg(\"delay\")\\\n",
    "  .sort(desc(\"avg(delay)\"))\\\n",
    "  .show(5)"
   ]
  },
  {
   "cell_type": "code",
   "execution_count": 38,
   "metadata": {},
   "outputs": [
    {
     "name": "stdout",
     "output_type": "stream",
     "text": [
      "+---+---+------------------+\n",
      "|src|dst|        avg(delay)|\n",
      "+---+---+------------------+\n",
      "|SEA|PHL|55.666666666666664|\n",
      "|SEA|COS| 43.53846153846154|\n",
      "|SEA|FAT| 43.03846153846154|\n",
      "|SEA|LGB| 39.39705882352941|\n",
      "|SEA|IAD|37.733333333333334|\n",
      "|SEA|MIA|37.325581395348834|\n",
      "|SEA|SFO| 36.50210378681627|\n",
      "|SEA|SBA| 36.48275862068966|\n",
      "|SEA|JFK|          35.03125|\n",
      "|SEA|ORD| 33.60335195530726|\n",
      "|SEA|PDX| 32.74285714285714|\n",
      "|SEA|BOS| 30.46031746031746|\n",
      "|SEA|LAS|28.933333333333334|\n",
      "|SEA|DEN|28.881294964028775|\n",
      "|SEA|IAH|27.844444444444445|\n",
      "|SEA|JAC|27.666666666666668|\n",
      "|SEA|OGG|27.473684210526315|\n",
      "|SEA|JNU|27.196969696969695|\n",
      "|SEA|HNL|26.702290076335878|\n",
      "|SEA|OAK|26.539473684210527|\n",
      "+---+---+------------------+\n",
      "only showing top 20 rows\n",
      "\n"
     ]
    }
   ],
   "source": [
    "tripGraph.edges.filter(\"src = 'SEA' and delay > 0\").groupBy(\"src\", \"dst\").avg(\"delay\").sort(desc(\"avg(delay)\")).show()"
   ]
  },
  {
   "cell_type": "code",
   "execution_count": 40,
   "metadata": {},
   "outputs": [
    {
     "name": "stdout",
     "output_type": "stream",
     "text": [
      "+-------+-----+---+---+--------+---------+\n",
      "| tripid|delay|src|dst|city_dst|state_dst|\n",
      "+-------+-----+---+---+--------+---------+\n",
      "|1011245|    6|ABE|ATL| Atlanta|       GA|\n",
      "|1041243|   10|ABE|ATL| Atlanta|       GA|\n",
      "|1040605|   28|ABE|ATL| Atlanta|       GA|\n",
      "|1051245|   88|ABE|ATL| Atlanta|       GA|\n",
      "|1050605|    9|ABE|ATL| Atlanta|       GA|\n",
      "|1061725|   69|ABE|ATL| Atlanta|       GA|\n",
      "|1081230|   33|ABE|DTW| Detroit|       MI|\n",
      "|1080625|    1|ABE|ATL| Atlanta|       GA|\n",
      "|1080607|    5|ABE|ORD| Chicago|       IL|\n",
      "|1081219|   54|ABE|ORD| Chicago|       IL|\n",
      "|1091215|   43|ABE|ATL| Atlanta|       GA|\n",
      "|1090600|  151|ABE|DTW| Detroit|       MI|\n",
      "|1090625|    8|ABE|ATL| Atlanta|       GA|\n",
      "|1091219|   83|ABE|ORD| Chicago|       IL|\n",
      "|1101725|    7|ABE|ATL| Atlanta|       GA|\n",
      "|1100625|   52|ABE|ATL| Atlanta|       GA|\n",
      "|1111215|  127|ABE|ATL| Atlanta|       GA|\n",
      "|1131215|   14|ABE|ATL| Atlanta|       GA|\n",
      "|1130625|   29|ABE|ATL| Atlanta|       GA|\n",
      "|1161219|   68|ABE|ORD| Chicago|       IL|\n",
      "+-------+-----+---+---+--------+---------+\n",
      "only showing top 20 rows\n",
      "\n"
     ]
    }
   ],
   "source": [
    "# After displaying tripDelays, use Plot Options to set `state_dst` as a Key.\n",
    "tripDelays = tripGraph.edges.filter(\"delay > 0\")\n",
    "tripDelays.show()"
   ]
  },
  {
   "cell_type": "code",
   "execution_count": 41,
   "metadata": {},
   "outputs": [
    {
     "data": {
      "text/plain": [
       "DataFrame[tripid: int, delay: int, src: string, dst: string, city_dst: string, state_dst: string]"
      ]
     },
     "execution_count": 41,
     "metadata": {},
     "output_type": "execute_result"
    }
   ],
   "source": [
    "tripGraph.edges.filter(\"src = 'SEA' and delay > 100\")"
   ]
  },
  {
   "cell_type": "markdown",
   "metadata": {},
   "source": [
    "## Vertex Degrees\n",
    "* `inDegrees`: Incoming connections to the airport\n",
    "* `outDegrees`: Outgoing connections from the airport \n",
    "* `degrees`: Total connections to and from the airport\n",
    "\n",
    "Reviewing the various properties of the property graph to understand the incoming and outgoing connections between airports."
   ]
  },
  {
   "cell_type": "code",
   "execution_count": 43,
   "metadata": {},
   "outputs": [
    {
     "name": "stdout",
     "output_type": "stream",
     "text": [
      "+---+------+\n",
      "| id|degree|\n",
      "+---+------+\n",
      "|ATL|179774|\n",
      "|DFW|133966|\n",
      "|ORD|125405|\n",
      "|LAX|106853|\n",
      "|DEN|103699|\n",
      "|IAH| 85685|\n",
      "|PHX| 79672|\n",
      "|SFO| 77635|\n",
      "|LAS| 66101|\n",
      "|CLT| 56103|\n",
      "|EWR| 54407|\n",
      "|MCO| 54300|\n",
      "|LGA| 50927|\n",
      "|SLC| 50780|\n",
      "|BOS| 49936|\n",
      "|DTW| 46705|\n",
      "|MSP| 46235|\n",
      "|SEA| 45816|\n",
      "|JFK| 43661|\n",
      "|BWI| 42526|\n",
      "+---+------+\n",
      "\n"
     ]
    }
   ],
   "source": [
    "tripGraph.degrees.sort(desc(\"degree\")).limit(20)\n",
    "tripGraph.degrees.sort(desc(\"degree\")).limit(20).show()"
   ]
  },
  {
   "cell_type": "code",
   "execution_count": 44,
   "metadata": {},
   "outputs": [
    {
     "name": "stdout",
     "output_type": "stream",
     "text": [
      "+---+--------+\n",
      "| id|inDegree|\n",
      "+---+--------+\n",
      "|ATL|   89633|\n",
      "|DFW|   65767|\n",
      "|ORD|   61654|\n",
      "|LAX|   53184|\n",
      "|DEN|   50738|\n",
      "|IAH|   42512|\n",
      "|PHX|   39619|\n",
      "|SFO|   38641|\n",
      "|LAS|   32994|\n",
      "|CLT|   28044|\n",
      "|EWR|   27201|\n",
      "|MCO|   27071|\n",
      "|LGA|   25469|\n",
      "|SLC|   25169|\n",
      "|BOS|   24973|\n",
      "|DTW|   23297|\n",
      "|SEA|   22906|\n",
      "|MSP|   22372|\n",
      "|JFK|   21832|\n",
      "|BWI|   21262|\n",
      "+---+--------+\n",
      "\n"
     ]
    }
   ],
   "source": [
    "tripGraph.inDegrees.sort(desc(\"inDegree\")).limit(20).show()"
   ]
  },
  {
   "cell_type": "code",
   "execution_count": 45,
   "metadata": {},
   "outputs": [
    {
     "name": "stdout",
     "output_type": "stream",
     "text": [
      "+---+---------+\n",
      "| id|outDegree|\n",
      "+---+---------+\n",
      "|ATL|    90141|\n",
      "|DFW|    68199|\n",
      "|ORD|    63751|\n",
      "|LAX|    53669|\n",
      "|DEN|    52961|\n",
      "|IAH|    43173|\n",
      "|PHX|    40053|\n",
      "|SFO|    38994|\n",
      "|LAS|    33107|\n",
      "|CLT|    28059|\n",
      "|MCO|    27229|\n",
      "|EWR|    27206|\n",
      "|SLC|    25611|\n",
      "|LGA|    25458|\n",
      "|BOS|    24963|\n",
      "|MSP|    23863|\n",
      "|DTW|    23408|\n",
      "|SEA|    22910|\n",
      "|JFK|    21829|\n",
      "|BWI|    21264|\n",
      "+---+---------+\n",
      "\n"
     ]
    }
   ],
   "source": [
    "tripGraph.outDegrees.sort(desc(\"outDegree\")).limit(20).show()"
   ]
  },
  {
   "cell_type": "markdown",
   "metadata": {},
   "source": [
    "## City / Flight Relationships through Motif Finding\n",
    "To more easily understand the complex relationship of city airports and their flights with each other, we can use motifs to find patterns of airports (i.e. vertices) connected by flights (i.e. edges). The result is a DataFrame in which the column names are given by the motif keys."
   ]
  },
  {
   "cell_type": "code",
   "execution_count": 47,
   "metadata": {},
   "outputs": [
    {
     "name": "stdout",
     "output_type": "stream",
     "text": [
      "+---+-----------+-------------------+\n",
      "| id|       city|        degreeRatio|\n",
      "+---+-----------+-------------------+\n",
      "|GFK|Grand Forks| 1.3333333333333333|\n",
      "|FAI|  Fairbanks| 1.1232686980609419|\n",
      "|OME|       Nome| 0.5084745762711864|\n",
      "|BRW|     Barrow|0.28651685393258425|\n",
      "+---+-----------+-------------------+\n",
      "\n"
     ]
    }
   ],
   "source": [
    "# Calculate the inDeg (flights into the airport) and outDeg (flights leaving the airport)\n",
    "inDeg = tripGraph.inDegrees\n",
    "outDeg = tripGraph.outDegrees\n",
    "\n",
    "# Calculate the degreeRatio (inDeg/outDeg)\n",
    "degreeRatio = inDeg.join(outDeg, inDeg.id == outDeg.id) \\\n",
    "  .drop(outDeg.id) \\\n",
    "  .selectExpr(\"id\", \"double(inDegree)/double(outDegree) as degreeRatio\") \\\n",
    "  .cache()\n",
    "\n",
    "# Join back to the `airports` DataFrame (instead of registering temp table as above)\n",
    "nonTransferAirports = degreeRatio.join(airports, degreeRatio.id == airports.IATA) \\\n",
    "  .selectExpr(\"id\", \"city\", \"degreeRatio\") \\\n",
    "  .filter(\"degreeRatio < .9 or degreeRatio > 1.1\")\n",
    "\n",
    "# List out the city airports which have abnormal degree ratios.\n",
    "nonTransferAirports.show()"
   ]
  },
  {
   "cell_type": "code",
   "execution_count": 49,
   "metadata": {},
   "outputs": [
    {
     "name": "stdout",
     "output_type": "stream",
     "text": [
      "+---+--------------+------------------+\n",
      "| id|          city|       degreeRatio|\n",
      "+---+--------------+------------------+\n",
      "|MSP|   Minneapolis|0.9375183338222353|\n",
      "|DEN|        Denver| 0.958025717037065|\n",
      "|DFW|        Dallas| 0.964339653074092|\n",
      "|ORD|       Chicago|0.9671063983310065|\n",
      "|SLC|Salt Lake City|0.9827417906368358|\n",
      "|IAH|       Houston|0.9846895050147083|\n",
      "|PHX|       Phoenix|0.9891643572266746|\n",
      "|OGG| Kahului, Maui|0.9898718478710211|\n",
      "|HNL|Honolulu, Oahu| 0.990535889872173|\n",
      "|SFO| San Francisco|0.9909473252295224|\n",
      "+---+--------------+------------------+\n",
      "\n"
     ]
    }
   ],
   "source": [
    "# Join back to the `airports` DataFrame (instead of registering temp table as above)\n",
    "transferAirports = degreeRatio.join(airports, degreeRatio.id == airports.IATA) \\\n",
    "  .selectExpr(\"id\", \"city\", \"degreeRatio\") \\\n",
    "  .filter(\"degreeRatio between 0.9 and 1.1\")\n",
    "  \n",
    "# List out the top 10 transfer city airports\n",
    "transferAirports.orderBy(\"degreeRatio\").limit(10).show()"
   ]
  },
  {
   "cell_type": "code",
   "execution_count": 50,
   "metadata": {},
   "outputs": [
    {
     "name": "stdout",
     "output_type": "stream",
     "text": [
      "+--------------------+--------------------+--------------------+\n",
      "|                from|                  e0|                  to|\n",
      "+--------------------+--------------------+--------------------+\n",
      "|[SEA,Seattle,WA,USA]|[1010710,31,SEA,S...|[SFO,San Francisc...|\n",
      "|[SEA,Seattle,WA,USA]|[1012125,-4,SEA,S...|[SFO,San Francisc...|\n",
      "|[SEA,Seattle,WA,USA]|[1011840,-5,SEA,S...|[SFO,San Francisc...|\n",
      "|[SEA,Seattle,WA,USA]|[1010610,-4,SEA,S...|[SFO,San Francisc...|\n",
      "|[SEA,Seattle,WA,USA]|[1011230,-2,SEA,S...|[SFO,San Francisc...|\n",
      "|[SEA,Seattle,WA,USA]|[1010955,-6,SEA,S...|[SFO,San Francisc...|\n",
      "|[SEA,Seattle,WA,USA]|[1011100,2,SEA,SF...|[SFO,San Francisc...|\n",
      "|[SEA,Seattle,WA,USA]|[1011405,0,SEA,SF...|[SFO,San Francisc...|\n",
      "|[SEA,Seattle,WA,USA]|[1020710,-1,SEA,S...|[SFO,San Francisc...|\n",
      "|[SEA,Seattle,WA,USA]|[1022125,-4,SEA,S...|[SFO,San Francisc...|\n",
      "|[SEA,Seattle,WA,USA]|[1021840,-5,SEA,S...|[SFO,San Francisc...|\n",
      "|[SEA,Seattle,WA,USA]|[1020610,3,SEA,SF...|[SFO,San Francisc...|\n",
      "|[SEA,Seattle,WA,USA]|[1021230,-2,SEA,S...|[SFO,San Francisc...|\n",
      "|[SEA,Seattle,WA,USA]|[1020955,-7,SEA,S...|[SFO,San Francisc...|\n",
      "|[SEA,Seattle,WA,USA]|[1021100,-1,SEA,S...|[SFO,San Francisc...|\n",
      "|[SEA,Seattle,WA,USA]|[1021405,-4,SEA,S...|[SFO,San Francisc...|\n",
      "|[SEA,Seattle,WA,USA]|[1030710,-13,SEA,...|[SFO,San Francisc...|\n",
      "|[SEA,Seattle,WA,USA]|[1032125,-3,SEA,S...|[SFO,San Francisc...|\n",
      "|[SEA,Seattle,WA,USA]|[1031840,-1,SEA,S...|[SFO,San Francisc...|\n",
      "|[SEA,Seattle,WA,USA]|[1030610,-5,SEA,S...|[SFO,San Francisc...|\n",
      "+--------------------+--------------------+--------------------+\n",
      "only showing top 20 rows\n",
      "\n"
     ]
    }
   ],
   "source": [
    "# Example 1: Direct Seattle to San Francisco \n",
    "filteredPaths = tripGraph.bfs(\n",
    "  fromExpr = \"id = 'SEA'\",\n",
    "  toExpr = \"id = 'SFO'\",\n",
    "  maxPathLength = 1)\n",
    "filteredPaths.show()"
   ]
  },
  {
   "cell_type": "code",
   "execution_count": 51,
   "metadata": {},
   "outputs": [
    {
     "name": "stdout",
     "output_type": "stream",
     "text": [
      "+---+----+-----+-------+\n",
      "| id|City|State|Country|\n",
      "+---+----+-----+-------+\n",
      "+---+----+-----+-------+\n",
      "\n"
     ]
    }
   ],
   "source": [
    "# Example 2: Direct San Francisco and Buffalo\n",
    "filteredPaths = tripGraph.bfs(\n",
    "  fromExpr = \"id = 'SFO'\",\n",
    "  toExpr = \"id = 'BUF'\",\n",
    "  maxPathLength = 1)\n",
    "filteredPaths.show()"
   ]
  },
  {
   "cell_type": "code",
   "execution_count": 52,
   "metadata": {},
   "outputs": [
    {
     "name": "stdout",
     "output_type": "stream",
     "text": [
      "+--------------------+--------------------+-------------------+--------------------+--------------------+\n",
      "|                from|                  e0|                 v1|                  e1|                  to|\n",
      "+--------------------+--------------------+-------------------+--------------------+--------------------+\n",
      "|[SFO,San Francisc...|[1010700,0,SFO,BO...|[BOS,Boston,MA,USA]|[1010635,-6,BOS,B...|[BUF,Buffalo,NY,USA]|\n",
      "|[SFO,San Francisc...|[1010700,0,SFO,BO...|[BOS,Boston,MA,USA]|[1011059,13,BOS,B...|[BUF,Buffalo,NY,USA]|\n",
      "|[SFO,San Francisc...|[1010700,0,SFO,BO...|[BOS,Boston,MA,USA]|[1011427,19,BOS,B...|[BUF,Buffalo,NY,USA]|\n",
      "|[SFO,San Francisc...|[1010700,0,SFO,BO...|[BOS,Boston,MA,USA]|[1020635,-4,BOS,B...|[BUF,Buffalo,NY,USA]|\n",
      "|[SFO,San Francisc...|[1010700,0,SFO,BO...|[BOS,Boston,MA,USA]|[1021059,0,BOS,BU...|[BUF,Buffalo,NY,USA]|\n",
      "|[SFO,San Francisc...|[1010700,0,SFO,BO...|[BOS,Boston,MA,USA]|[1021427,194,BOS,...|[BUF,Buffalo,NY,USA]|\n",
      "|[SFO,San Francisc...|[1010700,0,SFO,BO...|[BOS,Boston,MA,USA]|[1030635,0,BOS,BU...|[BUF,Buffalo,NY,USA]|\n",
      "|[SFO,San Francisc...|[1010700,0,SFO,BO...|[BOS,Boston,MA,USA]|[1031059,0,BOS,BU...|[BUF,Buffalo,NY,USA]|\n",
      "|[SFO,San Francisc...|[1010700,0,SFO,BO...|[BOS,Boston,MA,USA]|[1031427,0,BOS,BU...|[BUF,Buffalo,NY,USA]|\n",
      "|[SFO,San Francisc...|[1010700,0,SFO,BO...|[BOS,Boston,MA,USA]|[1040635,16,BOS,B...|[BUF,Buffalo,NY,USA]|\n",
      "|[SFO,San Francisc...|[1010700,0,SFO,BO...|[BOS,Boston,MA,USA]|[1041552,96,BOS,B...|[BUF,Buffalo,NY,USA]|\n",
      "|[SFO,San Francisc...|[1010700,0,SFO,BO...|[BOS,Boston,MA,USA]|[1050635,1,BOS,BU...|[BUF,Buffalo,NY,USA]|\n",
      "|[SFO,San Francisc...|[1010700,0,SFO,BO...|[BOS,Boston,MA,USA]|[1051059,48,BOS,B...|[BUF,Buffalo,NY,USA]|\n",
      "|[SFO,San Francisc...|[1010700,0,SFO,BO...|[BOS,Boston,MA,USA]|[1051427,443,BOS,...|[BUF,Buffalo,NY,USA]|\n",
      "|[SFO,San Francisc...|[1010700,0,SFO,BO...|[BOS,Boston,MA,USA]|[1060635,0,BOS,BU...|[BUF,Buffalo,NY,USA]|\n",
      "|[SFO,San Francisc...|[1010700,0,SFO,BO...|[BOS,Boston,MA,USA]|[1061059,294,BOS,...|[BUF,Buffalo,NY,USA]|\n",
      "|[SFO,San Francisc...|[1010700,0,SFO,BO...|[BOS,Boston,MA,USA]|[1061427,0,BOS,BU...|[BUF,Buffalo,NY,USA]|\n",
      "|[SFO,San Francisc...|[1010700,0,SFO,BO...|[BOS,Boston,MA,USA]|[1070730,0,BOS,BU...|[BUF,Buffalo,NY,USA]|\n",
      "|[SFO,San Francisc...|[1010700,0,SFO,BO...|[BOS,Boston,MA,USA]|[1071730,0,BOS,BU...|[BUF,Buffalo,NY,USA]|\n",
      "|[SFO,San Francisc...|[1010700,0,SFO,BO...|[BOS,Boston,MA,USA]|[1080710,0,BOS,BU...|[BUF,Buffalo,NY,USA]|\n",
      "+--------------------+--------------------+-------------------+--------------------+--------------------+\n",
      "only showing top 20 rows\n",
      "\n"
     ]
    }
   ],
   "source": [
    "# Example 2a: Flying from San Francisco to Buffalo\n",
    "filteredPaths = tripGraph.bfs(\n",
    "  fromExpr = \"id = 'SFO'\",\n",
    "  toExpr = \"id = 'BUF'\",\n",
    "  maxPathLength = 2)\n",
    "filteredPaths.show()"
   ]
  },
  {
   "cell_type": "code",
   "execution_count": 54,
   "metadata": {},
   "outputs": [
    {
     "name": "stdout",
     "output_type": "stream",
     "text": [
      "+---+---------------+-------+\n",
      "| id|           City|  count|\n",
      "+---+---------------+-------+\n",
      "|JFK|       New York|1233728|\n",
      "|ORD|        Chicago|1088283|\n",
      "|ATL|        Atlanta| 285383|\n",
      "|LAS|      Las Vegas| 275091|\n",
      "|BOS|         Boston| 238576|\n",
      "|CLT|      Charlotte| 143444|\n",
      "|PHX|        Phoenix| 104580|\n",
      "|FLL|Fort Lauderdale|  96317|\n",
      "|EWR|         Newark|  95370|\n",
      "|MCO|        Orlando|  88615|\n",
      "+---+---------------+-------+\n",
      "\n"
     ]
    }
   ],
   "source": [
    "filteredPaths.groupBy(\"v1.id\", \"v1.City\").count().orderBy(desc(\"count\")).limit(10).show()"
   ]
  },
  {
   "cell_type": "code",
   "execution_count": 57,
   "metadata": {},
   "outputs": [],
   "source": [
    "#Generate motifs\n",
    "motifs = tripGraphPrime.find(\"(a)-[ab]->(b); (b)-[bc]->(c)\").filter(\"(b.id = 'SFO') and (ab.delay > 500 or bc.delay > 500) and bc.tripid > ab.tripid and bc.tripid < ab.tripid + 10000\")"
   ]
  },
  {
   "cell_type": "code",
   "execution_count": 59,
   "metadata": {},
   "outputs": [
    {
     "name": "stdout",
     "output_type": "stream",
     "text": [
      "+--------------------+-------------------+--------------------+--------------------+--------------------+\n",
      "|                   a|                 ab|                   b|                  bc|                   c|\n",
      "+--------------------+-------------------+--------------------+--------------------+--------------------+\n",
      "|[ABQ,Albuquerque,...|[1020600,0,ABQ,SFO]|[SFO,San Francisc...|[1021507,536,SFO,...|[JFK,New York,NY,...|\n",
      "+--------------------+-------------------+--------------------+--------------------+--------------------+\n",
      "only showing top 1 row\n",
      "\n"
     ]
    }
   ],
   "source": [
    "motifs.show(1)"
   ]
  },
  {
   "cell_type": "code",
   "execution_count": 60,
   "metadata": {
    "collapsed": true
   },
   "outputs": [],
   "source": [
    "# Determining Airport ranking of importance using 'pageRank'\n",
    "ranks = tripGraph.pageRank(resetProbability=0.15, maxIter=5)"
   ]
  },
  {
   "cell_type": "code",
   "execution_count": 61,
   "metadata": {},
   "outputs": [
    {
     "name": "stdout",
     "output_type": "stream",
     "text": [
      "+---+--------------+-----+-------+------------------+\n",
      "| id|          City|State|Country|          pagerank|\n",
      "+---+--------------+-----+-------+------------------+\n",
      "|ATL|       Atlanta|   GA|    USA|10.102340247485012|\n",
      "|DFW|        Dallas|   TX|    USA| 7.252067259651102|\n",
      "|ORD|       Chicago|   IL|    USA| 7.165214941662068|\n",
      "|DEN|        Denver|   CO|    USA| 5.041255573485869|\n",
      "|LAX|   Los Angeles|   CA|    USA| 4.178333397888139|\n",
      "|IAH|       Houston|   TX|    USA| 4.008169343175302|\n",
      "|SFO| San Francisco|   CA|    USA| 3.518595203652925|\n",
      "|SLC|Salt Lake City|   UT|    USA|3.3564822581626763|\n",
      "|PHX|       Phoenix|   AZ|    USA|3.0896771274953343|\n",
      "|LAS|     Las Vegas|   NV|    USA| 2.437744837094217|\n",
      "|SEA|       Seattle|   WA|    USA| 2.372392233277875|\n",
      "|DTW|       Detroit|   MI|    USA|2.1688712347162338|\n",
      "|MSP|   Minneapolis|   MN|    USA|2.1574735230729862|\n",
      "|MCO|       Orlando|   FL|    USA|  2.10982981314059|\n",
      "|EWR|        Newark|   NJ|    USA|2.0700271952450677|\n",
      "|CLT|     Charlotte|   NC|    USA|2.0445115467872346|\n",
      "|LGA|      New York|   NY|    USA| 2.005137679218397|\n",
      "|BOS|        Boston|   MA|    USA|1.7516230739068934|\n",
      "|BWI|     Baltimore|   MD|    USA| 1.703768581668634|\n",
      "|MIA|         Miami|   FL|    USA|1.6479197970320616|\n",
      "+---+--------------+-----+-------+------------------+\n",
      "\n"
     ]
    }
   ],
   "source": [
    "ranks.vertices.orderBy(ranks.vertices.pagerank.desc()).limit(20).show()"
   ]
  },
  {
   "cell_type": "code",
   "execution_count": null,
   "metadata": {
    "collapsed": true
   },
   "outputs": [],
   "source": []
  }
 ],
 "metadata": {
  "kernelspec": {
   "display_name": "Python 3",
   "language": "python",
   "name": "python3"
  },
  "language_info": {
   "codemirror_mode": {
    "name": "ipython",
    "version": 3
   },
   "file_extension": ".py",
   "mimetype": "text/x-python",
   "name": "python",
   "nbconvert_exporter": "python",
   "pygments_lexer": "ipython3",
   "version": "3.6.8"
  }
 },
 "nbformat": 4,
 "nbformat_minor": 2
}
