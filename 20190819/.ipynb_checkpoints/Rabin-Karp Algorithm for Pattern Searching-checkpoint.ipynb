{
 "cells": [
  {
   "cell_type": "markdown",
   "metadata": {},
   "source": [
    "### Rabin-Karp Algorithm for Pattern Searching"
   ]
  },
  {
   "cell_type": "code",
   "execution_count": 3,
   "metadata": {},
   "outputs": [],
   "source": [
    "# https://www.sci.unich.it/~acciaro/Rabin_Karp.pdf\n",
    "def searchRKA(pat, txt, q): \n",
    "    M = len(pat) \n",
    "    N = len(txt) \n",
    "    p = 0    # hash value for pattern \n",
    "    t = 0    # hash value for txt \n",
    "    SecTerm = M - 1\n",
    "    \n",
    "    # Calculate the hash value of pattern and first window of text \n",
    "    for i in range(M): \n",
    "        p += (d**SecTerm * ord(pat[i]))%q \n",
    "        t += (d**SecTerm * ord(txt[i]))%q \n",
    "        SecTerm -= 1\n",
    "    p = p%q; t = t%q\n",
    "    \n",
    "    # Calculate hash value for next window of text: Remove leading digit (left most), add trailing digit\n",
    "    for i in range(N-M+1): \n",
    "        if p==t: \n",
    "            for j in range(M): \n",
    "                if txt[i+j] != pat[j]: \n",
    "                    break\n",
    "            j+=1\n",
    "            if j==M: \n",
    "                print (\"Pattern found at index \" + str(i)) \n",
    "\n",
    "        if i < N-M:\n",
    "            t = ((t*d)%q - (ord(txt[i])*d**M)%q + ord(txt[i+M])%q)%q\n",
    "            "
   ]
  },
  {
   "cell_type": "code",
   "execution_count": 5,
   "metadata": {},
   "outputs": [
    {
     "name": "stdout",
     "output_type": "stream",
     "text": [
      "Pattern found at index 0\n",
      "Pattern found at index 68\n"
     ]
    }
   ],
   "source": [
    "# The driver program to test the above function \n",
    "txt = \"Jason is a smart and a handsome guy,\\\n",
    "       you can learn a lot from Jason.\"\n",
    "pat = \"Jason\"\n",
    "q = 101 # a prime number \n",
    "d = 256 # a base number\n",
    "searchRKA(pat,txt,q) "
   ]
  }
 ],
 "metadata": {
  "kernelspec": {
   "display_name": "Python 3",
   "language": "python",
   "name": "python3"
  },
  "language_info": {
   "codemirror_mode": {
    "name": "ipython",
    "version": 3
   },
   "file_extension": ".py",
   "mimetype": "text/x-python",
   "name": "python",
   "nbconvert_exporter": "python",
   "pygments_lexer": "ipython3",
   "version": "3.7.1"
  }
 },
 "nbformat": 4,
 "nbformat_minor": 2
}
