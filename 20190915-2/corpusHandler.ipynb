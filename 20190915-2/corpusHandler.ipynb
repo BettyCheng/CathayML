{
 "cells": [
  {
   "cell_type": "code",
   "execution_count": 1,
   "metadata": {},
   "outputs": [],
   "source": [
    "#coding=utf8\n",
    "\n",
    "\n",
    "def tag_line(words, mark):\n",
    "    chars = []\n",
    "    tags = []\n",
    "    temp_word = '' #用于合并组合词\n",
    "    for word in words:\n",
    "        word = word.strip('\\t ')\n",
    "        if temp_word == '':\n",
    "            bracket_pos = word.find('[')\n",
    "            w, h = word.split('/')\n",
    "            if bracket_pos == -1:\n",
    "                if len(w) == 0: continue\n",
    "                chars.extend(w)\n",
    "                if h == 'ns':\n",
    "                    tags += ['S'] if len(w) == 1 else ['B'] + ['M'] * (len(w) - 2) + ['E']\n",
    "                else:\n",
    "                    tags += ['O'] * len(w)\n",
    "            else:\n",
    "                w = w[bracket_pos+1:]\n",
    "                temp_word += w\n",
    "        else:\n",
    "            bracket_pos = word.find(']')\n",
    "            w, h = word.split('/')\n",
    "            if bracket_pos == -1:\n",
    "                temp_word += w\n",
    "            else:\n",
    "                w = temp_word + w\n",
    "                h = word[bracket_pos+1:]\n",
    "                temp_word = ''\n",
    "                if len(w) == 0: continue\n",
    "                chars.extend(w)\n",
    "                if h == 'ns':\n",
    "                    tags += ['S'] if len(w) == 1 else ['B'] + ['M'] * (len(w) - 2) + ['E']\n",
    "                else:\n",
    "                    tags += ['O'] * len(w)\n",
    "\n",
    "    assert temp_word == ''\n",
    "    return (chars, tags)\n",
    "\n",
    "def corpusHandler(corpusPath):\n",
    "    import os\n",
    "    root = os.path.dirname(corpusPath)\n",
    "    with open(corpusPath) as corpus_f, \\\n",
    "        open(os.path.join(root, 'train.txt'), 'w') as train_f, \\\n",
    "        open(os.path.join(root, 'test.txt'), 'w') as test_f:\n",
    "\n",
    "        pos = 0\n",
    "        for line in  corpus_f:\n",
    "            line = line.strip('\\r\\n\\t ')\n",
    "            if line == '': continue\n",
    "            isTest = True if pos % 5 == 0 else False  # 抽样20%作为测试集使用\n",
    "            words = line.split()[1:]\n",
    "            if len(words) == 0: continue\n",
    "            line_chars, line_tags = tag_line(words, pos)\n",
    "            saveObj = test_f if isTest else train_f\n",
    "            for k, v in enumerate(line_chars):\n",
    "                saveObj.write(v + '\\t' + line_tags[k] + '\\n')\n",
    "            saveObj.write('\\n')\n",
    "            pos += 1"
   ]
  },
  {
   "cell_type": "code",
   "execution_count": 4,
   "metadata": {},
   "outputs": [],
   "source": [
    "if __name__ == '__main__':\n",
    "    corpusHandler('./data/people-daily.txt')"
   ]
  },
  {
   "cell_type": "code",
   "execution_count": null,
   "metadata": {},
   "outputs": [],
   "source": []
  }
 ],
 "metadata": {
  "kernelspec": {
   "display_name": "Python 3",
   "language": "python",
   "name": "python3"
  },
  "language_info": {
   "codemirror_mode": {
    "name": "ipython",
    "version": 3
   },
   "file_extension": ".py",
   "mimetype": "text/x-python",
   "name": "python",
   "nbconvert_exporter": "python",
   "pygments_lexer": "ipython3",
   "version": "3.6.8"
  }
 },
 "nbformat": 4,
 "nbformat_minor": 2
}
