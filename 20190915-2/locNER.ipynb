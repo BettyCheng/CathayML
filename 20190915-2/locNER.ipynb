{
 "cells": [
  {
   "cell_type": "code",
   "execution_count": 1,
   "metadata": {},
   "outputs": [
    {
     "name": "stdout",
     "output_type": "stream",
     "text": [
      "loc_P:0.9079811338204014, loc_R:0.8427467811158799, loc_F1:0.8741485999198683\n",
      "我中午要去北京饭店，下午去中山公园，晚上回亚运村。==> ['北京饭店', '中山公园', '亚运村']\n",
      "我去回龙观，不去南锣鼓巷==> []\n",
      "打的去北京南站地铁站==> ['北京']\n"
     ]
    }
   ],
   "source": [
    "def f1(path):\n",
    "    with open(path) as f:\n",
    "\n",
    "        all_tag = 0 #记录所有的标记数\n",
    "        loc_tag = 0 #记录真实的地理位置标记数\n",
    "        pred_loc_tag = 0 #记录预测的地理位置标记数\n",
    "        correct_tag = 0 #记录正确的标记数\n",
    "        correct_loc_tag = 0 #记录正确的地理位置标记数\n",
    "\n",
    "        states = ['B', 'M', 'E', 'S']\n",
    "        for line in f:\n",
    "            line = line.strip()\n",
    "            if line == '': continue\n",
    "            _, r, p = line.split()\n",
    "\n",
    "            all_tag += 1\n",
    "\n",
    "            if r == p:\n",
    "                correct_tag += 1\n",
    "                if r in states:\n",
    "                    correct_loc_tag += 1\n",
    "            if r in states: loc_tag += 1\n",
    "            if p in states: pred_loc_tag += 1\n",
    "\n",
    "        loc_P = 1.0 * correct_loc_tag/pred_loc_tag\n",
    "        loc_R = 1.0 * correct_loc_tag/loc_tag\n",
    "        print('loc_P:{0}, loc_R:{1}, loc_F1:{2}'.format(loc_P, loc_R, (2*loc_P*loc_R)/(loc_P+loc_R)))\n",
    "\n",
    "def load_model(path):\n",
    "    import os, CRFPP\n",
    "    # -v 3: access deep information like alpha,beta,prob\n",
    "    # -nN: enable nbest output. N should be >= 2\n",
    "    if os.path.exists(path):\n",
    "        return CRFPP.Tagger('-m {0} -v 3 -n2'.format(path))\n",
    "    return None\n",
    "\n",
    "def locationNER(text):\n",
    "\n",
    "    tagger = load_model('./model')\n",
    "\n",
    "    for c in text:\n",
    "        tagger.add(c)\n",
    "\n",
    "    result = []\n",
    "\n",
    "    # parse and change internal stated as 'parsed'\n",
    "    tagger.parse()\n",
    "    word = ''\n",
    "    for i in range(0, tagger.size()):\n",
    "        for j in range(0, tagger.xsize()):\n",
    "            ch = tagger.x(i, j)\n",
    "            tag = tagger.y2(i)\n",
    "            if tag == 'B':\n",
    "                word = ch\n",
    "            elif tag == 'M':\n",
    "                word += ch\n",
    "            elif tag == 'E':\n",
    "                word += ch\n",
    "                result.append(word)\n",
    "            elif tag == 'S':\n",
    "                word = ch\n",
    "                result.append(word)\n",
    "\n",
    "\n",
    "    return result\n",
    "\n",
    "\n",
    "if __name__ == '__main__':\n",
    "    f1('./data/test.rst')\n",
    "    text = '我中午要去北京饭店，下午去中山公园，晚上回亚运村。'\n",
    "    print(text, locationNER(text), sep='==> ')\n",
    "\n",
    "    text = '我去回龙观，不去南锣鼓巷'\n",
    "    print(text, locationNER(text), sep='==> ')\n",
    "\n",
    "    text = '打的去北京南站地铁站'\n",
    "    print(text, locationNER(text), sep='==> ')"
   ]
  },
  {
   "cell_type": "code",
   "execution_count": null,
   "metadata": {},
   "outputs": [],
   "source": []
  }
 ],
 "metadata": {
  "kernelspec": {
   "display_name": "Python 3",
   "language": "python",
   "name": "python3"
  },
  "language_info": {
   "codemirror_mode": {
    "name": "ipython",
    "version": 3
   },
   "file_extension": ".py",
   "mimetype": "text/x-python",
   "name": "python",
   "nbconvert_exporter": "python",
   "pygments_lexer": "ipython3",
   "version": "3.6.8"
  }
 },
 "nbformat": 4,
 "nbformat_minor": 2
}
